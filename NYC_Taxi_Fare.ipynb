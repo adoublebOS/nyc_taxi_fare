{
 "cells": [
  {
   "cell_type": "markdown",
   "id": "95e72d40",
   "metadata": {},
   "source": [
    "# NYC Taxi Fare Prediction"
   ]
  },
  {
   "cell_type": "markdown",
   "id": "648f1036",
   "metadata": {},
   "source": [
    "Ссылка к данным: https://www.kaggle.com/c/new-york-city-taxi-fare-prediction/data"
   ]
  },
  {
   "cell_type": "markdown",
   "id": "f411aafe",
   "metadata": {},
   "source": [
    "### Устанавливаем нужные библиотеки"
   ]
  },
  {
   "cell_type": "code",
   "execution_count": null,
   "id": "038d5c59",
   "metadata": {
    "scrolled": true
   },
   "outputs": [],
   "source": [
    "!pip3 install pandas\n",
    "!pip3 install matplotlib\n",
    "!pip3 install seaborn\n",
    "!pip3 install numpy\n",
    "!pip3 install sklearn\n",
    "!pip3 install haversine"
   ]
  },
  {
   "cell_type": "markdown",
   "id": "20b71670",
   "metadata": {},
   "source": [
    "### Импортируем"
   ]
  },
  {
   "cell_type": "code",
   "execution_count": 143,
   "id": "19c2211d",
   "metadata": {},
   "outputs": [],
   "source": [
    "import pandas as pd\n",
    "import matplotlib.pyplot as plt\n",
    "import seaborn as sns\n",
    "import numpy as np\n",
    "import sklearn as sk\n",
    "import haversine"
   ]
  },
  {
   "cell_type": "markdown",
   "id": "27db2cf0",
   "metadata": {},
   "source": [
    "### Читаем данные из датасета. Ограничиваем до миллиона строк для экономии памяти"
   ]
  },
  {
   "cell_type": "code",
   "execution_count": 145,
   "id": "29f4abf8",
   "metadata": {},
   "outputs": [
    {
     "data": {
      "text/plain": [
       "(1000000, 8)"
      ]
     },
     "execution_count": 145,
     "metadata": {},
     "output_type": "execute_result"
    }
   ],
   "source": [
    "df = pd.read_csv('train.csv', nrows=1e6)\n",
    "df.to_csv('df.csv', index=False)\n",
    "df.shape"
   ]
  },
  {
   "cell_type": "code",
   "execution_count": 115,
   "id": "f327316d",
   "metadata": {},
   "outputs": [
    {
     "data": {
      "text/html": [
       "<div>\n",
       "<style scoped>\n",
       "    .dataframe tbody tr th:only-of-type {\n",
       "        vertical-align: middle;\n",
       "    }\n",
       "\n",
       "    .dataframe tbody tr th {\n",
       "        vertical-align: top;\n",
       "    }\n",
       "\n",
       "    .dataframe thead th {\n",
       "        text-align: right;\n",
       "    }\n",
       "</style>\n",
       "<table border=\"1\" class=\"dataframe\">\n",
       "  <thead>\n",
       "    <tr style=\"text-align: right;\">\n",
       "      <th></th>\n",
       "      <th>key</th>\n",
       "      <th>fare_amount</th>\n",
       "      <th>pickup_datetime</th>\n",
       "      <th>pickup_longitude</th>\n",
       "      <th>pickup_latitude</th>\n",
       "      <th>dropoff_longitude</th>\n",
       "      <th>dropoff_latitude</th>\n",
       "      <th>passenger_count</th>\n",
       "    </tr>\n",
       "  </thead>\n",
       "  <tbody>\n",
       "    <tr>\n",
       "      <th>0</th>\n",
       "      <td>2009-06-15 17:26:21.0000001</td>\n",
       "      <td>4.5</td>\n",
       "      <td>2009-06-15 17:26:21 UTC</td>\n",
       "      <td>-73.844311</td>\n",
       "      <td>40.721319</td>\n",
       "      <td>-73.841610</td>\n",
       "      <td>40.712278</td>\n",
       "      <td>1</td>\n",
       "    </tr>\n",
       "    <tr>\n",
       "      <th>1</th>\n",
       "      <td>2010-01-05 16:52:16.0000002</td>\n",
       "      <td>16.9</td>\n",
       "      <td>2010-01-05 16:52:16 UTC</td>\n",
       "      <td>-74.016048</td>\n",
       "      <td>40.711303</td>\n",
       "      <td>-73.979268</td>\n",
       "      <td>40.782004</td>\n",
       "      <td>1</td>\n",
       "    </tr>\n",
       "    <tr>\n",
       "      <th>2</th>\n",
       "      <td>2011-08-18 00:35:00.00000049</td>\n",
       "      <td>5.7</td>\n",
       "      <td>2011-08-18 00:35:00 UTC</td>\n",
       "      <td>-73.982738</td>\n",
       "      <td>40.761270</td>\n",
       "      <td>-73.991242</td>\n",
       "      <td>40.750562</td>\n",
       "      <td>2</td>\n",
       "    </tr>\n",
       "    <tr>\n",
       "      <th>3</th>\n",
       "      <td>2012-04-21 04:30:42.0000001</td>\n",
       "      <td>7.7</td>\n",
       "      <td>2012-04-21 04:30:42 UTC</td>\n",
       "      <td>-73.987130</td>\n",
       "      <td>40.733143</td>\n",
       "      <td>-73.991567</td>\n",
       "      <td>40.758092</td>\n",
       "      <td>1</td>\n",
       "    </tr>\n",
       "    <tr>\n",
       "      <th>4</th>\n",
       "      <td>2010-03-09 07:51:00.000000135</td>\n",
       "      <td>5.3</td>\n",
       "      <td>2010-03-09 07:51:00 UTC</td>\n",
       "      <td>-73.968095</td>\n",
       "      <td>40.768008</td>\n",
       "      <td>-73.956655</td>\n",
       "      <td>40.783762</td>\n",
       "      <td>1</td>\n",
       "    </tr>\n",
       "  </tbody>\n",
       "</table>\n",
       "</div>"
      ],
      "text/plain": [
       "                             key  fare_amount          pickup_datetime  \\\n",
       "0    2009-06-15 17:26:21.0000001          4.5  2009-06-15 17:26:21 UTC   \n",
       "1    2010-01-05 16:52:16.0000002         16.9  2010-01-05 16:52:16 UTC   \n",
       "2   2011-08-18 00:35:00.00000049          5.7  2011-08-18 00:35:00 UTC   \n",
       "3    2012-04-21 04:30:42.0000001          7.7  2012-04-21 04:30:42 UTC   \n",
       "4  2010-03-09 07:51:00.000000135          5.3  2010-03-09 07:51:00 UTC   \n",
       "\n",
       "   pickup_longitude  pickup_latitude  dropoff_longitude  dropoff_latitude  \\\n",
       "0        -73.844311        40.721319         -73.841610         40.712278   \n",
       "1        -74.016048        40.711303         -73.979268         40.782004   \n",
       "2        -73.982738        40.761270         -73.991242         40.750562   \n",
       "3        -73.987130        40.733143         -73.991567         40.758092   \n",
       "4        -73.968095        40.768008         -73.956655         40.783762   \n",
       "\n",
       "   passenger_count  \n",
       "0                1  \n",
       "1                1  \n",
       "2                2  \n",
       "3                1  \n",
       "4                1  "
      ]
     },
     "execution_count": 115,
     "metadata": {},
     "output_type": "execute_result"
    }
   ],
   "source": [
    "df.head()"
   ]
  },
  {
   "cell_type": "markdown",
   "id": "db60e1da",
   "metadata": {},
   "source": [
    "### Фильтруем данные"
   ]
  },
  {
   "cell_type": "markdown",
   "id": "7d65694e",
   "metadata": {},
   "source": [
    "##### Ключ не понадобится, поэтому удаляем, а начало поездки переводим из object в datetime, чтобы смогли в дальнейшем работать"
   ]
  },
  {
   "cell_type": "code",
   "execution_count": 116,
   "id": "191ebadc",
   "metadata": {
    "scrolled": true
   },
   "outputs": [
    {
     "name": "stdout",
     "output_type": "stream",
     "text": [
      "<class 'pandas.core.frame.DataFrame'>\n",
      "RangeIndex: 1000000 entries, 0 to 999999\n",
      "Data columns (total 8 columns):\n",
      " #   Column             Non-Null Count    Dtype  \n",
      "---  ------             --------------    -----  \n",
      " 0   key                1000000 non-null  object \n",
      " 1   fare_amount        1000000 non-null  float64\n",
      " 2   pickup_datetime    1000000 non-null  object \n",
      " 3   pickup_longitude   1000000 non-null  float64\n",
      " 4   pickup_latitude    1000000 non-null  float64\n",
      " 5   dropoff_longitude  999990 non-null   float64\n",
      " 6   dropoff_latitude   999990 non-null   float64\n",
      " 7   passenger_count    1000000 non-null  int64  \n",
      "dtypes: float64(5), int64(1), object(2)\n",
      "memory usage: 61.0+ MB\n"
     ]
    }
   ],
   "source": [
    "df.info()"
   ]
  },
  {
   "cell_type": "code",
   "execution_count": null,
   "id": "51accbad",
   "metadata": {},
   "outputs": [],
   "source": []
  },
  {
   "cell_type": "code",
   "execution_count": 141,
   "id": "a199193a",
   "metadata": {},
   "outputs": [
    {
     "data": {
      "text/plain": [
       "<seaborn.axisgrid.FacetGrid at 0x7f0047434370>"
      ]
     },
     "execution_count": 141,
     "metadata": {},
     "output_type": "execute_result"
    },
    {
     "data": {
      "image/png": "[encoded data removed]",
      "text/plain": [
       "<Figure size 360x360 with 1 Axes>"
      ]
     },
     "metadata": {
      "needs_background": "light"
     },
     "output_type": "display_data"
    }
   ],
   "source": [
    "# Удаляем столбец ключ\n",
    "df.drop(columns='key', inplace=True, errors='ignore')\n",
    "\n",
    "# Удаляем строчки с null\n",
    "df.dropna(inplace=True)\n",
    "\n",
    "# Переводим столбец pickup_datetime из object в datetime формат\n",
    "df['pickup_datetime'] = pd.to_datetime(df['pickup_datetime'], format='%Y-%m-%d %H:%M:%S UTC')\n",
    "\n",
    "# Оставляем поездки до 8 пассажиров\n",
    "df = df[df['passenger_count'].between(1, 8)]\n",
    "\n",
    "passenger_count = df['passenger_count']\n",
    "sns.catplot(x=passenger_count, kind='count', data=df)"
   ]
  },
  {
   "cell_type": "code",
   "execution_count": 118,
   "id": "3dad4bdc",
   "metadata": {},
   "outputs": [
    {
     "name": "stderr",
     "output_type": "stream",
     "text": [
      "/home/xeno/anaconda3/envs/rstudio/lib/python3.9/site-packages/seaborn/distributions.py:2557: FutureWarning: `distplot` is a deprecated function and will be removed in a future version. Please adapt your code to use either `displot` (a figure-level function with similar flexibility) or `histplot` (an axes-level function for histograms).\n",
      "  warnings.warn(msg, FutureWarning)\n"
     ]
    },
    {
     "data": {
      "text/plain": [
       "<AxesSubplot:xlabel='fare_amount', ylabel='Density'>"
      ]
     },
     "execution_count": 118,
     "metadata": {},
     "output_type": "execute_result"
    },
    {
     "data": {
      "image/png": "[encoded data removed]",
      "text/plain": [
       "<Figure size 432x288 with 1 Axes>"
      ]
     },
     "metadata": {
      "needs_background": "light"
     },
     "output_type": "display_data"
    }
   ],
   "source": [
    "sns.distplot(df['fare_amount'])"
   ]
  },
  {
   "cell_type": "markdown",
   "id": "e068536a",
   "metadata": {},
   "source": [
    "##### Здесь видно, что поездки в основном стоили до ~0. Работаем с поездками с положительной суммой (&#36;0+)"
   ]
  },
  {
   "cell_type": "code",
   "execution_count": 139,
   "id": "637c0947",
   "metadata": {},
   "outputs": [],
   "source": [
    "df = df[df['fare_amount'].between(1, 80)]"
   ]
  },
  {
   "cell_type": "code",
   "execution_count": 140,
   "id": "838097a8",
   "metadata": {},
   "outputs": [
    {
     "name": "stderr",
     "output_type": "stream",
     "text": [
      "/home/xeno/anaconda3/envs/rstudio/lib/python3.9/site-packages/seaborn/distributions.py:2557: FutureWarning: `distplot` is a deprecated function and will be removed in a future version. Please adapt your code to use either `displot` (a figure-level function with similar flexibility) or `histplot` (an axes-level function for histograms).\n",
      "  warnings.warn(msg, FutureWarning)\n"
     ]
    },
    {
     "data": {
      "text/plain": [
       "<AxesSubplot:xlabel='fare_amount', ylabel='Density'>"
      ]
     },
     "execution_count": 140,
     "metadata": {},
     "output_type": "execute_result"
    },
    {
     "data": {
      "image/png": "[encoded data removed]",
      "text/plain": [
       "<Figure size 432x288 with 1 Axes>"
      ]
     },
     "metadata": {
      "needs_background": "light"
     },
     "output_type": "display_data"
    }
   ],
   "source": [
    "sns.distplot(df['fare_amount'])"
   ]
  },
  {
   "cell_type": "markdown",
   "id": "0d3b2e97",
   "metadata": {},
   "source": [
    "##### Узнаём коорлинаты границ города, чтобы исключить слишком далёкие строчки. Берём из Вики: https://en.wikipedia.org/wiki/Module:Location_map/data/USA_New_York_City_Subway"
   ]
  },
  {
   "cell_type": "code",
   "execution_count": 121,
   "id": "00101a2e",
   "metadata": {},
   "outputs": [
    {
     "data": {
      "text/plain": [
       "0         40.721319\n",
       "1         40.711303\n",
       "2         40.761270\n",
       "3         40.733143\n",
       "4         40.768008\n",
       "            ...    \n",
       "999995    40.785630\n",
       "999996    40.671385\n",
       "999997    40.751135\n",
       "999998    40.759482\n",
       "999999    40.741598\n",
       "Name: pickup_latitude, Length: 996321, dtype: float64"
      ]
     },
     "execution_count": 121,
     "metadata": {},
     "output_type": "execute_result"
    }
   ],
   "source": [
    "df['pickup_latitude']"
   ]
  },
  {
   "cell_type": "code",
   "execution_count": 136,
   "id": "1f0a04cc",
   "metadata": {},
   "outputs": [
    {
     "data": {
      "text/plain": [
       "<matplotlib.collections.PathCollection at 0x7f00474c0310>"
      ]
     },
     "execution_count": 136,
     "metadata": {},
     "output_type": "execute_result"
    },
    {
     "data": {
      "image/png": "[encoded data removed]",
      "text/plain": [
       "<Figure size 432x288 with 1 Axes>"
      ]
     },
     "metadata": {
      "needs_background": "light"
     },
     "output_type": "display_data"
    }
   ],
   "source": [
    "longitude_limit = (-74.112, -73.679)\n",
    "latitude_limit = (40.537, 40.928)\n",
    "\n",
    "plt.ylim(latitude_limit)\n",
    "plt.xlim(longitude_limit)\n",
    "\n",
    "longitude = df['pickup_longitude']\n",
    "latitude = df['pickup_latitude']\n",
    "\n",
    "plt.scatter(longitude, latitude, s=0.01)\n",
    "\n",
    "#plt.savefig('nyc_scatter_lo_res_dot.png', dpi=1000, facecolor='w', edgecolor='w',\n",
    "    #orientation='portrait', format=None,\n",
    "    #transparent=False, bbox_inches=None, pad_inches=0.1,)'''"
   ]
  },
  {
   "cell_type": "markdown",
   "id": "c0e8e0c6",
   "metadata": {},
   "source": [
    "##### Диаграмма показывает, что аэропорты бывают высоко загружены, что мы возьмём на учёт. Зададим координаты 3 аэропортов Нью-Йорка и напишем функцию, которая будет присваивать 1 колонке 'аэропорт', если заказ на территорию аэропорта"
   ]
  },
  {
   "cell_type": "code",
   "execution_count": 134,
   "id": "8a36e9d5",
   "metadata": {},
   "outputs": [],
   "source": [
    "nyc_airports={'JFK':{'min_lng':-73.835,\n",
    "                     'min_lat':40.619,\n",
    "                     'max_lng':-73.740, \n",
    "                     'max_lat':40.665},\n",
    "              \n",
    "              'EWR':{'min_lng':-74.192,\n",
    "                     'min_lat':40.670, \n",
    "                     'max_lng':-74.153, \n",
    "                     'max_lat':40.708},\n",
    "              \n",
    "        'LaGuardia':{'min_lng':-73.889, \n",
    "                     'min_lat':40.766, \n",
    "                     'max_lng':-73.855, \n",
    "                     'max_lat':40.793}\n",
    "                }\n",
    "\n",
    "def airport(latitude, longitude, airport_name):\n",
    "    if (latitude >= nyc_airports[airport_name]['min_lat'] and\n",
    "      latitude <= nyc_airports[airport_name]['max_lat'] and\n",
    "      longitude >= nyc_airports[airport_name]['min_lng'] and\n",
    "      longitude <= nyc_airports[airport_name]['max_lng']):\n",
    "        return 1\n",
    "    else:\n",
    "        return 0"
   ]
  },
  {
   "cell_type": "code",
   "execution_count": null,
   "id": "427ff51d",
   "metadata": {},
   "outputs": [],
   "source": []
  }
 ],
 "metadata": {
  "kernelspec": {
   "display_name": "Python 3",
   "language": "python",
   "name": "python3"
  },
  "language_info": {
   "codemirror_mode": {
    "name": "ipython",
    "version": 3
   },
   "file_extension": ".py",
   "mimetype": "text/x-python",
   "name": "python",
   "nbconvert_exporter": "python",
   "pygments_lexer": "ipython3",
   "version": "3.9.2"
  }
 },
 "nbformat": 4,
 "nbformat_minor": 5
}
