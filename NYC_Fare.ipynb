{
 "cells": [
  {
   "cell_type": "code",
   "execution_count": null,
   "metadata": {
    "colab": {
     "base_uri": "https://localhost:8080/"
    },
    "id": "B2qL-XVZp3l9",
    "outputId": "248c2fe7-067d-41c1-b69f-5515779f35ee"
   },
   "outputs": [],
   "source": [
    "!pip3 install pandas\n",
    "!pip3 install matplotlib\n",
    "!pip3 install seaborn\n",
    "!pip3 install numpy\n",
    "!pip3 install sklearn\n",
    "#!pip3 install haversine\n",
    "!pip3 install xgboost"
   ]
  },
  {
   "cell_type": "markdown",
   "metadata": {
    "id": "Di7ku7YgsXjY"
   },
   "source": [
    "# **Импортируем библиотеки**"
   ]
  },
  {
   "cell_type": "code",
   "execution_count": 36,
   "metadata": {
    "id": "4dULdyvup4zP"
   },
   "outputs": [],
   "source": [
    "import pandas as pd\n",
    "import matplotlib.pyplot as plt\n",
    "import seaborn as sns\n",
    "import numpy as np\n",
    "import sklearn as sk\n",
    "#from haversine import haversine\n",
    "from sklearn.model_selection import train_test_split\n",
    "import xgboost as xgb\n",
    "from sklearn.metrics import r2_score, mean_squared_error"
   ]
  },
  {
   "cell_type": "markdown",
   "metadata": {
    "id": "0etHlcYqszvY"
   },
   "source": [
    "# **Читаем датасет. Экономим время и работаем с первой десяткой тысяч результатов**"
   ]
  },
  {
   "cell_type": "code",
   "execution_count": 37,
   "metadata": {
    "id": "P1JUNJh0s1jL"
   },
   "outputs": [],
   "source": [
    "test = pd.read_csv('test.csv', nrows=1e6)\n",
    "train = pd.read_csv('df.csv', nrows=1e6)"
   ]
  },
  {
   "cell_type": "markdown",
   "metadata": {
    "id": "r9LZLVvktpja"
   },
   "source": [
    "# **Приводим в порядок данные**"
   ]
  },
  {
   "cell_type": "code",
   "execution_count": 38,
   "metadata": {
    "colab": {
     "base_uri": "https://localhost:8080/",
     "height": 401
    },
    "id": "5yUbJRM0zpjK",
    "outputId": "1d7bb071-c2fa-4dff-8f3c-710fc01ae98d"
   },
   "outputs": [
    {
     "data": {
      "text/plain": [
       "<seaborn.axisgrid.FacetGrid at 0x7efddc754510>"
      ]
     },
     "execution_count": 38,
     "metadata": {
      "tags": []
     },
     "output_type": "execute_result"
    },
    {
     "data": {
      "image/png": "[encoded data removed]",
      "text/plain": [
       "<Figure size 360x360 with 1 Axes>"
      ]
     },
     "metadata": {
      "needs_background": "light",
      "tags": []
     },
     "output_type": "display_data"
    }
   ],
   "source": [
    "passenger_count = train['passenger_count']\n",
    "sns.catplot(x=passenger_count, kind='count', data=train)"
   ]
  },
  {
   "cell_type": "markdown",
   "metadata": {
    "id": "GdNo4cMfz3PY"
   },
   "source": [
    "**На графике видно, что количество пассажиров находится в диапазоне от 1 до 6. В дальнейшем, мы отсеим фантомные поездки (где количество пассажиров меньше 1).**\n"
   ]
  },
  {
   "cell_type": "code",
   "execution_count": 39,
   "metadata": {
    "colab": {
     "base_uri": "https://localhost:8080/",
     "height": 353
    },
    "id": "I4XguqSp0d4U",
    "outputId": "47388362-376e-4abc-89d9-6ec9c51b933d"
   },
   "outputs": [
    {
     "name": "stderr",
     "output_type": "stream",
     "text": [
      "/usr/local/lib/python3.7/dist-packages/seaborn/distributions.py:2557: FutureWarning: `distplot` is a deprecated function and will be removed in a future version. Please adapt your code to use either `displot` (a figure-level function with similar flexibility) or `histplot` (an axes-level function for histograms).\n",
      "  warnings.warn(msg, FutureWarning)\n"
     ]
    },
    {
     "data": {
      "text/plain": [
       "<matplotlib.axes._subplots.AxesSubplot at 0x7efddd2a9fd0>"
      ]
     },
     "execution_count": 39,
     "metadata": {
      "tags": []
     },
     "output_type": "execute_result"
    },
    {
     "data": {
      "image/png": "[encoded data removed]",
      "text/plain": [
       "<Figure size 432x288 with 1 Axes>"
      ]
     },
     "metadata": {
      "needs_background": "light",
      "tags": []
     },
     "output_type": "display_data"
    }
   ],
   "source": [
    "sns.distplot(train['fare_amount'])"
   ]
  },
  {
   "cell_type": "markdown",
   "metadata": {
    "id": "gzlxs9KL04j-"
   },
   "source": [
    "**Также, мы можем заметить, что поездки в основном стоили до ~$80. Критические значения, а так же отрицательные, мы уберём**"
   ]
  },
  {
   "cell_type": "markdown",
   "metadata": {
    "id": "N7OprYn0t0JS"
   },
   "source": [
    "Пишем функцию, которая уберёт пустые значение, столбец ключей, переведёт pickup_datetime из object в datetime формат, добавит столбцы часов дня, дней недели, месяца и года, а также столбец с дистанцией поездки. Функцию, вычисляющую эту дистанцию разберём ниже."
   ]
  },
  {
   "cell_type": "code",
   "execution_count": 40,
   "metadata": {
    "id": "IYWLJ68wtyB8"
   },
   "outputs": [],
   "source": [
    "def data_cleanup(df):\n",
    "    df.dropna(inplace=True)\n",
    "    df.drop(columns='key', inplace=True, errors='ignore')\n",
    "    df['pickup_datetime'] = pd.to_datetime(df['pickup_datetime'], format='%Y-%m-%d %H:%M:%S UTC')\n",
    "    df = df[df['passenger_count'].between(1, 6)]\n",
    "    if 'fare_amount' in df.columns:\n",
    "      df = df[df['fare_amount'].between(1, 80)]\n",
    "    df['hour'] = df.pickup_datetime.dt.hour\n",
    "    df['weekday'] = df.pickup_datetime.dt.weekday\n",
    "    df['month'] = df.pickup_datetime.dt.month\n",
    "    df['year'] = df.pickup_datetime.dt.year\n",
    "    df['distance'] = round(haversine(df['pickup_longitude'], df['pickup_latitude'], \n",
    "                                     df['dropoff_longitude'], df['dropoff_latitude']), ndigits=2)\n",
    "    return df"
   ]
  },
  {
   "cell_type": "markdown",
   "metadata": {
    "id": "zvGXLxf8sf_v"
   },
   "source": [
    "# **Пишем функцию вычисления дистанции поездки**"
   ]
  },
  {
   "cell_type": "markdown",
   "metadata": {
    "id": "THrbnH8fvLte"
   },
   "source": [
    "Функция берёт точку подбора и доставки клиента, и через формулу Хаверсина вычисляет приблизительную дистанцию."
   ]
  },
  {
   "cell_type": "code",
   "execution_count": 41,
   "metadata": {
    "id": "Z0FMHM-osfP8"
   },
   "outputs": [],
   "source": [
    "def haversine(lon1, lat1, lon2, lat2):\n",
    "    lon1, lat1, lon2, lat2 = map(np.radians, [lon1, lat1, lon2, lat2])\n",
    "    newlon = lon2 - lon1\n",
    "    newlat = lat2 - lat1\n",
    "    haversine_formula = np.sin(newlat/2.0)**2 + np.cos(lat1) * np.cos(lat2) * np.sin(newlon/2.0)**2\n",
    "    dist = 2 * np.arcsin(np.sqrt(haversine_formula))\n",
    "    km = 6367 * dist #6367 for distance in KM for miles use 3958\n",
    "    return km"
   ]
  },
  {
   "cell_type": "markdown",
   "metadata": {
    "id": "ubxduddbvvTR"
   },
   "source": [
    "# **Смотрим на обработанный датасет**"
   ]
  },
  {
   "cell_type": "code",
   "execution_count": 42,
   "metadata": {
    "colab": {
     "base_uri": "https://localhost:8080/",
     "height": 201
    },
    "id": "1OEOjaJnvuvP",
    "outputId": "34de7909-e32a-4b34-a3f1-8102588d78b0"
   },
   "outputs": [
    {
     "data": {
      "text/html": [
       "<div>\n",
       "<style scoped>\n",
       "    .dataframe tbody tr th:only-of-type {\n",
       "        vertical-align: middle;\n",
       "    }\n",
       "\n",
       "    .dataframe tbody tr th {\n",
       "        vertical-align: top;\n",
       "    }\n",
       "\n",
       "    .dataframe thead th {\n",
       "        text-align: right;\n",
       "    }\n",
       "</style>\n",
       "<table border=\"1\" class=\"dataframe\">\n",
       "  <thead>\n",
       "    <tr style=\"text-align: right;\">\n",
       "      <th></th>\n",
       "      <th>fare_amount</th>\n",
       "      <th>pickup_datetime</th>\n",
       "      <th>pickup_longitude</th>\n",
       "      <th>pickup_latitude</th>\n",
       "      <th>dropoff_longitude</th>\n",
       "      <th>dropoff_latitude</th>\n",
       "      <th>passenger_count</th>\n",
       "    </tr>\n",
       "  </thead>\n",
       "  <tbody>\n",
       "    <tr>\n",
       "      <th>0</th>\n",
       "      <td>4.5</td>\n",
       "      <td>2009-06-15 17:26:21</td>\n",
       "      <td>-73.844311</td>\n",
       "      <td>40.721319</td>\n",
       "      <td>-73.841610</td>\n",
       "      <td>40.712278</td>\n",
       "      <td>1</td>\n",
       "    </tr>\n",
       "    <tr>\n",
       "      <th>1</th>\n",
       "      <td>16.9</td>\n",
       "      <td>2010-01-05 16:52:16</td>\n",
       "      <td>-74.016048</td>\n",
       "      <td>40.711303</td>\n",
       "      <td>-73.979268</td>\n",
       "      <td>40.782004</td>\n",
       "      <td>1</td>\n",
       "    </tr>\n",
       "    <tr>\n",
       "      <th>2</th>\n",
       "      <td>5.7</td>\n",
       "      <td>2011-08-18 00:35:00</td>\n",
       "      <td>-73.982738</td>\n",
       "      <td>40.761270</td>\n",
       "      <td>-73.991242</td>\n",
       "      <td>40.750562</td>\n",
       "      <td>2</td>\n",
       "    </tr>\n",
       "    <tr>\n",
       "      <th>3</th>\n",
       "      <td>7.7</td>\n",
       "      <td>2012-04-21 04:30:42</td>\n",
       "      <td>-73.987130</td>\n",
       "      <td>40.733143</td>\n",
       "      <td>-73.991567</td>\n",
       "      <td>40.758092</td>\n",
       "      <td>1</td>\n",
       "    </tr>\n",
       "    <tr>\n",
       "      <th>4</th>\n",
       "      <td>5.3</td>\n",
       "      <td>2010-03-09 07:51:00</td>\n",
       "      <td>-73.968095</td>\n",
       "      <td>40.768008</td>\n",
       "      <td>-73.956655</td>\n",
       "      <td>40.783762</td>\n",
       "      <td>1</td>\n",
       "    </tr>\n",
       "  </tbody>\n",
       "</table>\n",
       "</div>"
      ],
      "text/plain": [
       "   fare_amount     pickup_datetime  ...  dropoff_latitude  passenger_count\n",
       "0          4.5 2009-06-15 17:26:21  ...         40.712278                1\n",
       "1         16.9 2010-01-05 16:52:16  ...         40.782004                1\n",
       "2          5.7 2011-08-18 00:35:00  ...         40.750562                2\n",
       "3          7.7 2012-04-21 04:30:42  ...         40.758092                1\n",
       "4          5.3 2010-03-09 07:51:00  ...         40.783762                1\n",
       "\n",
       "[5 rows x 7 columns]"
      ]
     },
     "execution_count": 42,
     "metadata": {
      "tags": []
     },
     "output_type": "execute_result"
    }
   ],
   "source": [
    "data_cleanup(train)\n",
    "data_cleanup(test)\n",
    "\n",
    "train.head()"
   ]
  },
  {
   "cell_type": "markdown",
   "metadata": {
    "id": "8j23Znm-v7tr"
   },
   "source": [
    "# **Готовим данные для обучения**"
   ]
  },
  {
   "cell_type": "code",
   "execution_count": 43,
   "metadata": {
    "id": "lxv558QTwQak"
   },
   "outputs": [],
   "source": [
    "f_train = train.drop(columns=['pickup_datetime'], axis= 1).copy()\n",
    "df_test = test.drop(columns=['pickup_datetime'], axis= 1).copy()\n",
    "\n",
    "X_train, X_test, y_train, y_test = train_test_split(df_train.drop('fare_amount', axis=1),\n",
    "                                                    df_train['fare_amount'], test_size=0.3, random_state = 38)"
   ]
  },
  {
   "cell_type": "markdown",
   "metadata": {
    "id": "RvJcMOqswVz_"
   },
   "source": [
    "# **Задаём параметры алгоритму**"
   ]
  },
  {
   "cell_type": "markdown",
   "metadata": {
    "id": "ziEj_mlpxOvy"
   },
   "source": [
    "Задача заключается в предсказывании значений стоимости поездки. Для такой задачи подойдёт алгоритм экстремального градиентного бустинга."
   ]
  },
  {
   "cell_type": "code",
   "execution_count": 44,
   "metadata": {
    "colab": {
     "base_uri": "https://localhost:8080/"
    },
    "id": "0UV1WcVGxLay",
    "outputId": "a030cd24-dee0-43e6-8fdb-e073480cd0e7"
   },
   "outputs": [
    {
     "name": "stdout",
     "output_type": "stream",
     "text": [
      "[15:56:52] WARNING: /workspace/src/objective/regression_obj.cu:152: reg:linear is now deprecated in favor of reg:squarederror.\n",
      "[0]\ttest-rmse:13.2315\n",
      "Will train until test-rmse hasn't improved in 10 rounds.\n",
      "[1]\ttest-rmse:12.8833\n",
      "[2]\ttest-rmse:12.5431\n",
      "[3]\ttest-rmse:12.2174\n",
      "[4]\ttest-rmse:11.9029\n",
      "[5]\ttest-rmse:11.5982\n",
      "[6]\ttest-rmse:11.3046\n",
      "[7]\ttest-rmse:11.018\n",
      "[8]\ttest-rmse:10.7444\n",
      "[9]\ttest-rmse:10.4763\n",
      "[10]\ttest-rmse:10.2174\n",
      "[11]\ttest-rmse:9.97105\n",
      "[12]\ttest-rmse:9.72837\n",
      "[13]\ttest-rmse:9.50628\n",
      "[14]\ttest-rmse:9.28058\n",
      "[15]\ttest-rmse:9.06391\n",
      "[16]\ttest-rmse:8.8532\n",
      "[17]\ttest-rmse:8.65432\n",
      "[18]\ttest-rmse:8.46373\n",
      "[19]\ttest-rmse:8.27458\n",
      "[20]\ttest-rmse:8.09696\n",
      "[21]\ttest-rmse:7.92408\n",
      "[22]\ttest-rmse:7.76125\n",
      "[23]\ttest-rmse:7.60403\n",
      "[24]\ttest-rmse:7.45106\n",
      "[25]\ttest-rmse:7.30452\n",
      "[26]\ttest-rmse:7.15973\n",
      "[27]\ttest-rmse:7.02452\n",
      "[28]\ttest-rmse:6.89457\n",
      "[29]\ttest-rmse:6.76863\n",
      "[30]\ttest-rmse:6.65192\n",
      "[31]\ttest-rmse:6.53505\n",
      "[32]\ttest-rmse:6.42521\n",
      "[33]\ttest-rmse:6.31703\n",
      "[34]\ttest-rmse:6.21937\n",
      "[35]\ttest-rmse:6.12475\n",
      "[36]\ttest-rmse:6.03327\n",
      "[37]\ttest-rmse:5.94271\n",
      "[38]\ttest-rmse:5.8602\n",
      "[39]\ttest-rmse:5.77614\n",
      "[40]\ttest-rmse:5.69849\n",
      "[41]\ttest-rmse:5.62437\n",
      "[42]\ttest-rmse:5.55526\n",
      "[43]\ttest-rmse:5.48846\n",
      "[44]\ttest-rmse:5.41788\n",
      "[45]\ttest-rmse:5.34942\n",
      "[46]\ttest-rmse:5.2912\n",
      "[47]\ttest-rmse:5.22984\n",
      "[48]\ttest-rmse:5.1725\n",
      "[49]\ttest-rmse:5.11547\n",
      "[50]\ttest-rmse:5.06532\n",
      "[51]\ttest-rmse:5.01203\n",
      "[52]\ttest-rmse:4.96181\n",
      "[53]\ttest-rmse:4.91905\n",
      "[54]\ttest-rmse:4.87334\n",
      "[55]\ttest-rmse:4.83049\n",
      "[56]\ttest-rmse:4.79109\n",
      "[57]\ttest-rmse:4.75463\n",
      "[58]\ttest-rmse:4.72259\n",
      "[59]\ttest-rmse:4.68946\n",
      "[60]\ttest-rmse:4.65942\n",
      "[61]\ttest-rmse:4.63135\n",
      "[62]\ttest-rmse:4.60327\n",
      "[63]\ttest-rmse:4.57906\n",
      "[64]\ttest-rmse:4.55672\n",
      "[65]\ttest-rmse:4.5354\n",
      "[66]\ttest-rmse:4.51312\n",
      "[67]\ttest-rmse:4.49251\n",
      "[68]\ttest-rmse:4.4717\n",
      "[69]\ttest-rmse:4.45216\n",
      "[70]\ttest-rmse:4.4329\n",
      "[71]\ttest-rmse:4.41654\n",
      "[72]\ttest-rmse:4.39947\n",
      "[73]\ttest-rmse:4.38265\n",
      "[74]\ttest-rmse:4.36791\n",
      "[75]\ttest-rmse:4.35517\n",
      "[76]\ttest-rmse:4.34028\n",
      "[77]\ttest-rmse:4.32612\n",
      "[78]\ttest-rmse:4.31467\n",
      "[79]\ttest-rmse:4.30368\n",
      "[80]\ttest-rmse:4.29463\n",
      "[81]\ttest-rmse:4.28392\n",
      "[82]\ttest-rmse:4.27407\n",
      "[83]\ttest-rmse:4.2646\n",
      "[84]\ttest-rmse:4.2543\n",
      "[85]\ttest-rmse:4.24574\n",
      "[86]\ttest-rmse:4.23715\n",
      "[87]\ttest-rmse:4.22941\n",
      "[88]\ttest-rmse:4.22207\n",
      "[89]\ttest-rmse:4.21408\n",
      "[90]\ttest-rmse:4.20706\n",
      "[91]\ttest-rmse:4.20036\n",
      "[92]\ttest-rmse:4.19233\n",
      "[93]\ttest-rmse:4.18645\n",
      "[94]\ttest-rmse:4.17909\n",
      "[95]\ttest-rmse:4.17307\n",
      "[96]\ttest-rmse:4.16754\n",
      "[97]\ttest-rmse:4.16651\n",
      "[98]\ttest-rmse:4.16128\n",
      "[99]\ttest-rmse:4.15567\n",
      "[100]\ttest-rmse:4.15291\n",
      "[101]\ttest-rmse:4.14835\n",
      "[102]\ttest-rmse:4.14566\n",
      "[103]\ttest-rmse:4.14249\n",
      "[104]\ttest-rmse:4.1404\n",
      "[105]\ttest-rmse:4.13806\n",
      "[106]\ttest-rmse:4.1344\n",
      "[107]\ttest-rmse:4.13212\n",
      "[108]\ttest-rmse:4.12985\n",
      "[109]\ttest-rmse:4.12991\n",
      "[110]\ttest-rmse:4.12829\n",
      "[111]\ttest-rmse:4.12666\n",
      "[112]\ttest-rmse:4.13052\n",
      "[113]\ttest-rmse:4.12817\n",
      "[114]\ttest-rmse:4.12704\n",
      "[115]\ttest-rmse:4.12467\n",
      "[116]\ttest-rmse:4.12885\n",
      "[117]\ttest-rmse:4.12519\n",
      "[118]\ttest-rmse:4.12129\n",
      "[119]\ttest-rmse:4.11896\n",
      "[120]\ttest-rmse:4.1163\n",
      "[121]\ttest-rmse:4.11483\n",
      "[122]\ttest-rmse:4.113\n",
      "[123]\ttest-rmse:4.11354\n",
      "[124]\ttest-rmse:4.11218\n",
      "[125]\ttest-rmse:4.11013\n",
      "[126]\ttest-rmse:4.10876\n",
      "[127]\ttest-rmse:4.10736\n",
      "[128]\ttest-rmse:4.10561\n",
      "[129]\ttest-rmse:4.11277\n",
      "[130]\ttest-rmse:4.11101\n",
      "[131]\ttest-rmse:4.10965\n",
      "[132]\ttest-rmse:4.11635\n",
      "[133]\ttest-rmse:4.11606\n",
      "[134]\ttest-rmse:4.11381\n",
      "[135]\ttest-rmse:4.11255\n",
      "[136]\ttest-rmse:4.11513\n",
      "[137]\ttest-rmse:4.11543\n",
      "[138]\ttest-rmse:4.11317\n",
      "Stopping. Best iteration:\n",
      "[128]\ttest-rmse:4.10561\n",
      "\n"
     ]
    }
   ],
   "source": [
    "params = {\n",
    "    'max_depth': 7,\n",
    "    'gamma' :0,\n",
    "    'eta':.03, \n",
    "    'subsample': 1,\n",
    "    'colsample_bytree': 0.9, \n",
    "    'objective':'reg:linear',\n",
    "    'eval_metric':'rmse',\n",
    "    'silent': 0\n",
    "}\n",
    "\n",
    "def XGBmodel(X_train,X_test,y_train,y_test,params):\n",
    "    matrix_train = xgb.DMatrix(X_train,label=y_train)\n",
    "    matrix_test = xgb.DMatrix(X_test,label=y_test)\n",
    "    model=xgb.train(params=params,\n",
    "                    dtrain=matrix_train,num_boost_round=5000, \n",
    "                    early_stopping_rounds=10,evals=[(matrix_test,'test')])\n",
    "    return model\n",
    "\n",
    "model = XGBmodel(X_train,X_test,y_train,y_test,params)"
   ]
  }
 ],
 "metadata": {
  "colab": {
   "collapsed_sections": [],
   "name": "NYC_Fare",
   "provenance": []
  },
  "kernelspec": {
   "display_name": "Python 3",
   "language": "python",
   "name": "python3"
  },
  "language_info": {
   "codemirror_mode": {
    "name": "ipython",
    "version": 3
   },
   "file_extension": ".py",
   "mimetype": "text/x-python",
   "name": "python",
   "nbconvert_exporter": "python",
   "pygments_lexer": "ipython3",
   "version": "3.8.8"
  }
 },
 "nbformat": 4,
 "nbformat_minor": 1
}
